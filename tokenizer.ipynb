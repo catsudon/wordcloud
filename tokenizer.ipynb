{
 "cells": [
  {
   "cell_type": "code",
   "execution_count": null,
   "id": "c6470e95",
   "metadata": {},
   "outputs": [
    {
     "ename": "",
     "evalue": "",
     "output_type": "error",
     "traceback": [
      "\u001b[1;31mThe kernel failed to start as 'TypeAliasType' could not be imported from '/home/catsudon/.local/lib/python3.10/site-packages/typing_extensions.py'.\n",
      "\u001b[1;31mClick <a href='https://aka.ms/kernelFailuresModuleImportErrFromFile'>here</a> for more info."
     ]
    }
   ],
   "source": [
    "from pythainlp import sent_tokenize, word_tokenize"
   ]
  },
  {
   "cell_type": "code",
   "execution_count": null,
   "id": "61891e3e",
   "metadata": {},
   "outputs": [],
   "source": [
    "text = \"อาชีพไหนจะมา? อาชีพไหนจะหายไป? ในยุค AI \""
   ]
  },
  {
   "cell_type": "code",
   "execution_count": null,
   "id": "59e0be50",
   "metadata": {},
   "outputs": [],
   "source": [
    "print(\"sent_tokenize:\", sent_tokenize(text))\n",
    "print(\"word_tokenize:\", word_tokenize(text))\n",
    "print(\"no whitespace:\", word_tokenize(text, keep_whitespace=False))"
   ]
  },
  {
   "cell_type": "code",
   "execution_count": null,
   "id": "a1ea76f7",
   "metadata": {},
   "outputs": [],
   "source": [
    "print(\"newmm    :\", word_tokenize(text))  # default engine is \"newmm\"\n",
    "print(\"longest  :\", word_tokenize(text, engine=\"longest\"))\n",
    "print(\"multi_cut:\", word_tokenize(text, engine=\"multi_cut\"))\n",
    "# print(\"pyicu    :\", word_tokenize(text, engine=\"pyicu\"))\n",
    "print(\"deepcut  :\", word_tokenize(text, engine=\"deepcut\"))\n",
    "# print(\"tcc      :\", word_tokenize(text, engine=\"tcc\"))\n",
    "# print(\"etcc     :\", word_tokenize(text, engine=\"etcc\"))\n",
    "# print(\"ulmfit   :\", word_tokenize(text, engine=\"ulmfit\"))"
   ]
  },
  {
   "cell_type": "code",
   "execution_count": null,
   "id": "fdc1d536",
   "metadata": {},
   "outputs": [],
   "source": [
    "from pythainlp import sent_tokenize, word_tokenize\n",
    "\n",
    "word_tokenize(text, engine=\"deepcut\")"
   ]
  },
  {
   "cell_type": "code",
   "execution_count": null,
   "id": "4eb80bee",
   "metadata": {},
   "outputs": [],
   "source": [
    "from config import custom_vocab\n",
    "\n",
    "tokens = word_tokenize(text_input.replace('\\n', ' '), engine=\"deepcut\", custom_dict=custom_vocab)\n",
    "print(tokens)\n",
    "freqs = Counter(tokens)\n",
    "print(freqs)"
   ]
  }
 ],
 "metadata": {
  "kernelspec": {
   "display_name": "Python 3",
   "language": "python",
   "name": "python3"
  },
  "language_info": {
   "codemirror_mode": {
    "name": "ipython",
    "version": 3
   },
   "file_extension": ".py",
   "mimetype": "text/x-python",
   "name": "python",
   "nbconvert_exporter": "python",
   "pygments_lexer": "ipython3",
   "version": "3.10.12"
  }
 },
 "nbformat": 4,
 "nbformat_minor": 5
}
